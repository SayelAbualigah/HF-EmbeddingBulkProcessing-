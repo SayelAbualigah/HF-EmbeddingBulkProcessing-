{
 "cells": [
  {
   "cell_type": "code",
   "execution_count": 2,
   "id": "a0c28f1d-9241-4892-b8a5-27c32bf49668",
   "metadata": {},
   "outputs": [],
   "source": [
    "import boto3\n",
    "from opensearchpy import OpenSearch, RequestsHttpConnection\n",
    "from requests_aws4auth import AWS4Auth\n",
    "from langchain.embeddings import SagemakerEndpointEmbeddings\n",
    "from langchain.embeddings.sagemaker_endpoint import EmbeddingsContentHandler\n",
    "from langchain.vectorstores import OpenSearchVectorSearch\n",
    "from typing import List\n",
    "import json\n",
    "import boto3\n",
    "from opensearchpy import OpenSearch, RequestsHttpConnection\n",
    "from langchain.vectorstores import OpenSearchVectorSearch\n",
    "\n",
    "# Your AWS region where your OpenSearch Service is deployed\n",
    "region = ''\n",
    "\n",
    "# Host URL of your Amazon OpenSearch Service\n",
    "host = \"\"\n",
    "\n",
    "\n",
    "# sagemaker endpoint\n",
    "endpoint_name = \"\"\n",
    "\n",
    "# Get credentials from boto3 session\n",
    "session = boto3.Session()\n",
    "credentials = session.get_credentials()\n",
    "auth = (credentials.access_key, credentials.secret_key, credentials.token)\n",
    "\n",
    "# OpenSearch client\n",
    "aos_client = OpenSearch(\n",
    "    hosts=[{'host': host, 'port': 443}],\n",
    "    http_auth=auth,  # Using the tuple for authentication\n",
    "    use_ssl=True,\n",
    "    verify_certs=True,\n",
    "    connection_class=RequestsHttpConnection\n",
    ")\n",
    "\n",
    "class BulkSagemakerEndpointEmbeddings(SagemakerEndpointEmbeddings):\n",
    "    def embed_documents(self, texts: List[str], chunk_size: int = 1) -> List[List[float]]:\n",
    "        results = []\n",
    "        for i in range(0, len(texts), chunk_size):\n",
    "            batch = texts[i:i + chunk_size]\n",
    "            response = self._embedding_func(batch)\n",
    "            results.extend(response)\n",
    "        return results\n",
    "\n",
    "class EmbeddingContentHandler(EmbeddingsContentHandler):\n",
    "    content_type = \"application/json\"\n",
    "    accepts = \"application/json\"\n",
    "\n",
    "    def transform_input(self, prompts: List[str], model_kwargs={}) -> bytes:\n",
    "        input_str = json.dumps({\"inputs\": prompts}, **model_kwargs)\n",
    "        return input_str.encode('utf-8')\n",
    "\n",
    "    def transform_output(self, output: bytes) -> List:\n",
    "        response_json = json.loads(output.read().decode(\"utf-8\"))\n",
    "        embeddings = response_json[\"vectors\"]\n",
    "        return embeddings\n",
    "\n",
    "embeddings = BulkSagemakerEndpointEmbeddings(\n",
    "    endpoint_name=\"\",\n",
    "    region_name=region, \n",
    "    content_handler=EmbeddingContentHandler()\n",
    ")\n",
    "\n",
    "embedding_index_name = 'opensearch_test0'\n"
   ]
  },
  {
   "cell_type": "code",
   "execution_count": 4,
   "id": "1bc79b36-560e-486f-9afc-b2280f294d21",
   "metadata": {},
   "outputs": [],
   "source": [
    "import langchain\n",
    "from langchain.document_loaders.pdf import PyPDFLoader\n",
    "loader = PyPDFLoader(\"file.pdf\")\n",
    "pages = loader.load_and_split()"
   ]
  },
  {
   "cell_type": "code",
   "execution_count": 20,
   "id": "648b826d-f563-4c11-9ce6-8cdd6dfa3187",
   "metadata": {},
   "outputs": [],
   "source": [
    "import boto3\n",
    "from requests_aws4auth import AWS4Auth\n",
    "from opensearchpy import OpenSearch, RequestsHttpConnection\n",
    "\n",
    "# Your AWS region where your OpenSearch Service is deployed\n",
    "region = 'me-central-1'\n",
    "\n",
    "# Host URL of your Amazon OpenSearch Service\n",
    "host = \"\"\n",
    "\n",
    "# Creating AWS4Auth instance using boto3 to retrieve credentials\n",
    "session = boto3.Session()\n",
    "credentials = session.get_credentials()\n",
    "awsauth = AWS4Auth(\n",
    "    credentials.access_key, \n",
    "    credentials.secret_key, \n",
    "    region, \n",
    "    'es', \n",
    "    session_token=credentials.token\n",
    ")\n",
    "\n",
    "# OpenSearch client\n",
    "aos_client = OpenSearch(\n",
    "    hosts=[{'host': host, 'port': 443}],\n",
    "    http_auth=awsauth,\n",
    "    use_ssl=True,\n",
    "    verify_certs=True,\n",
    "    connection_class=RequestsHttpConnection\n",
    ")"
   ]
  },
  {
   "cell_type": "code",
   "execution_count": 21,
   "id": "acaac03c-0882-43a3-b1a9-c30dd4e5dd24",
   "metadata": {},
   "outputs": [
    {
     "name": "stdout",
     "output_type": "stream",
     "text": [
     ]
    }
   ],
   "source": [
    "try:\n",
    "    health = aos_client.cluster.health()\n",
    "    print(\"Cluster health response:\", health)\n",
    "except Exception as e:\n",
    "    print(\"Error connecting to OpenSearch:\", e)"
   ]
  },
  {
   "cell_type": "code",
   "execution_count": 8,
   "id": "f138ba79-bb3a-4015-8532-bb01b33feb28",
   "metadata": {},
   "outputs": [],
   "source": [
    "docsearch = OpenSearchVectorSearch.from_documents(\n",
    "    pages,\n",
    "    embeddings,\n",
    "    opensearch_url=[{'host': host, 'port': 443}],\n",
    "    http_auth=awsauth,\n",
    "    timeout=300,\n",
    "    use_ssl=True,\n",
    "    verify_certs=True,\n",
    "    connection_class=RequestsHttpConnection,\n",
    "    index_name=\"test-index\",\n",
    ")\n",
    "\n"
   ]
  },
  {
   "cell_type": "code",
   "execution_count": 9,
   "id": "b65f2368-b703-4ec4-bd8d-8ee898956f8e",
   "metadata": {},
   "outputs": [],
   "source": [
    "docs = docsearch.similarity_search(\n",
    "    \"What is feature selection\",\n",
    "    k=1,\n",
    ")"
   ]
  },
  {
   "cell_type": "code",
   "execution_count": 10,
   "id": "895c8856-7dc1-43c1-aa89-213bdee03c5f",
   "metadata": {
    "collapsed": true,
    "jupyter": {
     "outputs_hidden": true
    },
    "scrolled": true
   },
   "outputs": [
    {
     "data": {
      "text/plain": [
       ]
     },
     "execution_count": 10,
     "metadata": {},
     "output_type": "execute_result"
    }
   ],
   "source": [
    "docs"
   ]
  },
  {
   "cell_type": "code",
   "execution_count": 28,
   "id": "d19c93ed-1947-4518-bb55-40382359622b",
   "metadata": {},
   "outputs": [
    {
     "name": "stdout",
     "output_type": "stream",
     "text": [
      ]
    }
   ],
   "source": [
    "import boto3\n",
    "from opensearchpy import OpenSearch, RequestsHttpConnection\n",
    "from requests_aws4auth import AWS4Auth\n",
    "from langchain.vectorstores import OpenSearchVectorSearch\n",
    "\n",
    "# Setup for AWS authentication and OpenSearch client (not shown, use your existing setup)\n",
    "\n",
    "# Name of your existing index\n",
    "index_name = 'test-index'\n",
    "\n",
    "# Ensure that 'host' and 'awsauth' are correctly defined (from your existing setup)\n",
    "# Ensure that 'embeddings' is correctly defined and is a callable for embedding\n",
    "host2  = \"\"\n",
    "\n",
    "# Initialize OpenSearchVectorSearch with the existing index\n",
    "vector_search = OpenSearchVectorSearch(\n",
    "    opensearch_url=host2,  # Use the host URL directly as a string\n",
    "    index_name=index_name,\n",
    "    opensearch_client=aos_client,\n",
    "    embedding_function=embeddings\n",
    ")\n",
    "\n",
    "# Example: Using the retriever to search\n",
    "try:\n",
    "    search_query = \"First abu dhabi bank\"\n",
    "    search_results = vector_search.search(search_query, k=1, search_type=\"similarity\")\n",
    "    print(search_results)\n",
    "except Exception as e:\n",
    "    print(\"Error during search:\", e)\n"
   ]
  },
  {
   "cell_type": "code",
   "execution_count": null,
   "id": "c95e4323-268a-4e18-a716-386eb08153c5",
   "metadata": {},
   "outputs": [],
   "source": []
  }
 ],
 "metadata": {
  "kernelspec": {
   "display_name": "Python 3 (ipykernel)",
   "language": "python",
   "name": "python3"
  },
  "language_info": {
   "codemirror_mode": {
    "name": "ipython",
    "version": 3
   },
   "file_extension": ".py",
   "mimetype": "text/x-python",
   "name": "python",
   "nbconvert_exporter": "python",
   "pygments_lexer": "ipython3",
   "version": "3.10.13"
  }
 },
 "nbformat": 4,
 "nbformat_minor": 5
}
